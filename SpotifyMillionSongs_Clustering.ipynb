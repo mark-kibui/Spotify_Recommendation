{
 "cells": [
  {
   "cell_type": "markdown",
   "metadata": {
    "id": "LUxLrmi2V4Bu"
   },
   "source": [
    "# **Spotify Recommendation System**\n",
    "\n",
    "---\n",
    "\n",
    "# Introduction\n",
    "This analysis explores Spotify's \"Million Song Dataset\" with the goal of uncovering trends and patterns in music features. By applying data science techniques, I aim to gain insights into some of the attributes that shape song recommendation to the users, and ultimately build a personalized recommendation system. The dataset includes features such as tempo, energy, danceability, and genre, offering a rich foundation for understanding the factors that resonate with listeners.\n",
    "\n",
    "My approach involves data preprocessing, exploratory analysis, and the application of machine learning models to group similar songs and recommend music that aligns with a user’s mood. We leverage dimensionality reduction and clustering techniques to visualize the underlying structure in the data, allowing for intuitive recommendations.\n"
   ]
  },
  {
   "cell_type": "markdown",
   "metadata": {
    "id": "kCx91BzRW5-H"
   },
   "source": [
    "# 1. Load data"
   ]
  },
  {
   "cell_type": "code",
   "execution_count": 1,
   "metadata": {
    "id": "qxtHBo-zvzJN"
   },
   "outputs": [],
   "source": [
    "# Load libraries\n",
    "import pandas as pd\n",
    "import numpy as np\n",
    "import matplotlib.pyplot as plt\n",
    "import seaborn as sns\n",
    "\n",
    "import warnings"
   ]
  },
  {
   "cell_type": "code",
   "execution_count": 2,
   "metadata": {
    "id": "mQ82W6fnXY5T"
   },
   "outputs": [],
   "source": [
    "# from google.colab import drive\n",
    "# drive.mount('/content/drive')"
   ]
  },
  {
   "cell_type": "code",
   "execution_count": 3,
   "metadata": {
    "colab": {
     "base_uri": "https://localhost:8080/",
     "height": 206
    },
    "executionInfo": {
     "elapsed": 3899,
     "status": "ok",
     "timestamp": 1730915085847,
     "user": {
      "displayName": "Mark Kibui",
      "userId": "08263058941382842012"
     },
     "user_tz": -180
    },
    "id": "lg3UMaDqwK2H",
    "outputId": "183f0826-d245-4d95-a68d-50c8eefa039a"
   },
   "outputs": [
    {
     "data": {
      "text/html": [
       "<div>\n",
       "<style scoped>\n",
       "    .dataframe tbody tr th:only-of-type {\n",
       "        vertical-align: middle;\n",
       "    }\n",
       "\n",
       "    .dataframe tbody tr th {\n",
       "        vertical-align: top;\n",
       "    }\n",
       "\n",
       "    .dataframe thead th {\n",
       "        text-align: right;\n",
       "    }\n",
       "</style>\n",
       "<table border=\"1\" class=\"dataframe\">\n",
       "  <thead>\n",
       "    <tr style=\"text-align: right;\">\n",
       "      <th></th>\n",
       "      <th>artist_name</th>\n",
       "      <th>track_name</th>\n",
       "      <th>track_id</th>\n",
       "      <th>popularity</th>\n",
       "      <th>year</th>\n",
       "      <th>genre</th>\n",
       "      <th>danceability</th>\n",
       "      <th>energy</th>\n",
       "      <th>key</th>\n",
       "      <th>loudness</th>\n",
       "      <th>mode</th>\n",
       "      <th>speechiness</th>\n",
       "      <th>acousticness</th>\n",
       "      <th>instrumentalness</th>\n",
       "      <th>liveness</th>\n",
       "      <th>valence</th>\n",
       "      <th>tempo</th>\n",
       "      <th>duration_ms</th>\n",
       "      <th>time_signature</th>\n",
       "    </tr>\n",
       "  </thead>\n",
       "  <tbody>\n",
       "    <tr>\n",
       "      <th>0</th>\n",
       "      <td>Jason Mraz</td>\n",
       "      <td>I Won't Give Up</td>\n",
       "      <td>53QF56cjZA9RTuuMZDrSA6</td>\n",
       "      <td>68</td>\n",
       "      <td>2012</td>\n",
       "      <td>acoustic</td>\n",
       "      <td>0.483</td>\n",
       "      <td>0.303</td>\n",
       "      <td>4</td>\n",
       "      <td>-10.058</td>\n",
       "      <td>1</td>\n",
       "      <td>0.0429</td>\n",
       "      <td>0.6940</td>\n",
       "      <td>0.000000</td>\n",
       "      <td>0.1150</td>\n",
       "      <td>0.139</td>\n",
       "      <td>133.406</td>\n",
       "      <td>240166</td>\n",
       "      <td>3</td>\n",
       "    </tr>\n",
       "    <tr>\n",
       "      <th>1</th>\n",
       "      <td>Jason Mraz</td>\n",
       "      <td>93 Million Miles</td>\n",
       "      <td>1s8tP3jP4GZcyHDsjvw218</td>\n",
       "      <td>50</td>\n",
       "      <td>2012</td>\n",
       "      <td>acoustic</td>\n",
       "      <td>0.572</td>\n",
       "      <td>0.454</td>\n",
       "      <td>3</td>\n",
       "      <td>-10.286</td>\n",
       "      <td>1</td>\n",
       "      <td>0.0258</td>\n",
       "      <td>0.4770</td>\n",
       "      <td>0.000014</td>\n",
       "      <td>0.0974</td>\n",
       "      <td>0.515</td>\n",
       "      <td>140.182</td>\n",
       "      <td>216387</td>\n",
       "      <td>4</td>\n",
       "    </tr>\n",
       "    <tr>\n",
       "      <th>2</th>\n",
       "      <td>Joshua Hyslop</td>\n",
       "      <td>Do Not Let Me Go</td>\n",
       "      <td>7BRCa8MPiyuvr2VU3O9W0F</td>\n",
       "      <td>57</td>\n",
       "      <td>2012</td>\n",
       "      <td>acoustic</td>\n",
       "      <td>0.409</td>\n",
       "      <td>0.234</td>\n",
       "      <td>3</td>\n",
       "      <td>-13.711</td>\n",
       "      <td>1</td>\n",
       "      <td>0.0323</td>\n",
       "      <td>0.3380</td>\n",
       "      <td>0.000050</td>\n",
       "      <td>0.0895</td>\n",
       "      <td>0.145</td>\n",
       "      <td>139.832</td>\n",
       "      <td>158960</td>\n",
       "      <td>4</td>\n",
       "    </tr>\n",
       "    <tr>\n",
       "      <th>3</th>\n",
       "      <td>Boyce Avenue</td>\n",
       "      <td>Fast Car</td>\n",
       "      <td>63wsZUhUZLlh1OsyrZq7sz</td>\n",
       "      <td>58</td>\n",
       "      <td>2012</td>\n",
       "      <td>acoustic</td>\n",
       "      <td>0.392</td>\n",
       "      <td>0.251</td>\n",
       "      <td>10</td>\n",
       "      <td>-9.845</td>\n",
       "      <td>1</td>\n",
       "      <td>0.0363</td>\n",
       "      <td>0.8070</td>\n",
       "      <td>0.000000</td>\n",
       "      <td>0.0797</td>\n",
       "      <td>0.508</td>\n",
       "      <td>204.961</td>\n",
       "      <td>304293</td>\n",
       "      <td>4</td>\n",
       "    </tr>\n",
       "    <tr>\n",
       "      <th>4</th>\n",
       "      <td>Andrew Belle</td>\n",
       "      <td>Sky's Still Blue</td>\n",
       "      <td>6nXIYClvJAfi6ujLiKqEq8</td>\n",
       "      <td>54</td>\n",
       "      <td>2012</td>\n",
       "      <td>acoustic</td>\n",
       "      <td>0.430</td>\n",
       "      <td>0.791</td>\n",
       "      <td>6</td>\n",
       "      <td>-5.419</td>\n",
       "      <td>0</td>\n",
       "      <td>0.0302</td>\n",
       "      <td>0.0726</td>\n",
       "      <td>0.019300</td>\n",
       "      <td>0.1100</td>\n",
       "      <td>0.217</td>\n",
       "      <td>171.864</td>\n",
       "      <td>244320</td>\n",
       "      <td>4</td>\n",
       "    </tr>\n",
       "  </tbody>\n",
       "</table>\n",
       "</div>"
      ],
      "text/plain": [
       "     artist_name        track_name                track_id  popularity  year  \\\n",
       "0     Jason Mraz   I Won't Give Up  53QF56cjZA9RTuuMZDrSA6          68  2012   \n",
       "1     Jason Mraz  93 Million Miles  1s8tP3jP4GZcyHDsjvw218          50  2012   \n",
       "2  Joshua Hyslop  Do Not Let Me Go  7BRCa8MPiyuvr2VU3O9W0F          57  2012   \n",
       "3   Boyce Avenue          Fast Car  63wsZUhUZLlh1OsyrZq7sz          58  2012   \n",
       "4   Andrew Belle  Sky's Still Blue  6nXIYClvJAfi6ujLiKqEq8          54  2012   \n",
       "\n",
       "      genre  danceability  energy  key  loudness  mode  speechiness  \\\n",
       "0  acoustic         0.483   0.303    4   -10.058     1       0.0429   \n",
       "1  acoustic         0.572   0.454    3   -10.286     1       0.0258   \n",
       "2  acoustic         0.409   0.234    3   -13.711     1       0.0323   \n",
       "3  acoustic         0.392   0.251   10    -9.845     1       0.0363   \n",
       "4  acoustic         0.430   0.791    6    -5.419     0       0.0302   \n",
       "\n",
       "   acousticness  instrumentalness  liveness  valence    tempo  duration_ms  \\\n",
       "0        0.6940          0.000000    0.1150    0.139  133.406       240166   \n",
       "1        0.4770          0.000014    0.0974    0.515  140.182       216387   \n",
       "2        0.3380          0.000050    0.0895    0.145  139.832       158960   \n",
       "3        0.8070          0.000000    0.0797    0.508  204.961       304293   \n",
       "4        0.0726          0.019300    0.1100    0.217  171.864       244320   \n",
       "\n",
       "   time_signature  \n",
       "0               3  \n",
       "1               4  \n",
       "2               4  \n",
       "3               4  \n",
       "4               4  "
      ]
     },
     "execution_count": 3,
     "metadata": {},
     "output_type": "execute_result"
    }
   ],
   "source": [
    "# Load the data\n",
    "# df = pd.read_csv('/content/drive/Othercomputers/My Laptop - Personal/Files/Data_Files/Portfolio Projects/1 Million songs Spotify/Data/spotify_data.csv', index_col=0) # Google colab file path\n",
    "df = pd.read_csv('Data/spotify_data.csv', index_col=0) # local file path\n",
    "df.head()"
   ]
  },
  {
   "cell_type": "code",
   "execution_count": 4,
   "metadata": {
    "colab": {
     "base_uri": "https://localhost:8080/"
    },
    "executionInfo": {
     "elapsed": 7,
     "status": "ok",
     "timestamp": 1730915085847,
     "user": {
      "displayName": "Mark Kibui",
      "userId": "08263058941382842012"
     },
     "user_tz": -180
    },
    "id": "E1PhY9RGwjRk",
    "outputId": "3fd26f49-73f0-4351-e24b-5e6e6f79f177"
   },
   "outputs": [
    {
     "name": "stdout",
     "output_type": "stream",
     "text": [
      "<class 'pandas.core.frame.DataFrame'>\n",
      "Index: 1159764 entries, 0 to 1473395\n",
      "Data columns (total 19 columns):\n",
      " #   Column            Non-Null Count    Dtype  \n",
      "---  ------            --------------    -----  \n",
      " 0   artist_name       1159749 non-null  object \n",
      " 1   track_name        1159763 non-null  object \n",
      " 2   track_id          1159764 non-null  object \n",
      " 3   popularity        1159764 non-null  int64  \n",
      " 4   year              1159764 non-null  int64  \n",
      " 5   genre             1159764 non-null  object \n",
      " 6   danceability      1159764 non-null  float64\n",
      " 7   energy            1159764 non-null  float64\n",
      " 8   key               1159764 non-null  int64  \n",
      " 9   loudness          1159764 non-null  float64\n",
      " 10  mode              1159764 non-null  int64  \n",
      " 11  speechiness       1159764 non-null  float64\n",
      " 12  acousticness      1159764 non-null  float64\n",
      " 13  instrumentalness  1159764 non-null  float64\n",
      " 14  liveness          1159764 non-null  float64\n",
      " 15  valence           1159764 non-null  float64\n",
      " 16  tempo             1159764 non-null  float64\n",
      " 17  duration_ms       1159764 non-null  int64  \n",
      " 18  time_signature    1159764 non-null  int64  \n",
      "dtypes: float64(9), int64(6), object(4)\n",
      "memory usage: 177.0+ MB\n"
     ]
    }
   ],
   "source": [
    "df.info()"
   ]
  },
  {
   "cell_type": "markdown",
   "metadata": {
    "id": "itbWT963lSi2"
   },
   "source": [
    "| Feature Name | Description |\n",
    "|---|---|\n",
    "| popularity | A measure of the song's popularity on Spotify |\n",
    "| year | The year the song was released |\n",
    "| genre | The primary genre of the song |\n",
    "| danceability | Describes how suitable the track is for dancing |\n",
    "| energy | Represents the perceived intensity and activity level of the track |\n",
    "| key | The musical key of the song |\n",
    "| loudness | The overall loudness of the track in decibels (dB) |\n",
    "| mode | Indicates whether the track is in major (1) or minor (0) key |\n",
    "| speechiness | The presence of spoken words in the track |\n",
    "| acousticness | A confidence measure of whether the track is acoustic |\n",
    "| instrumentalness | The presence of vocals in the track |\n",
    "| liveness | A confidence measure of whether the track was performed live |\n",
    "| valence | The positivity conveyed by the track |\n",
    "| tempo | The average tempo of the track in beats per minute (BPM) |\n",
    "| time_signature | The time signature of the track |\n",
    "| duration_minutes | The duration of the track in minutes |"
   ]
  },
  {
   "cell_type": "code",
   "execution_count": 5,
   "metadata": {
    "id": "VbzOvvMgo-xj"
   },
   "outputs": [],
   "source": [
    "def data_summary(data):\n",
    "    \"\"\"\n",
    "    Summarize the Spotify dataset with flexibility and additional insights.\n",
    "\n",
    "    Parameters:\n",
    "        data (DataFrame): A pandas DataFrame containing Spotify data.\n",
    "    Returns:\n",
    "        dict: A dictionary of key summary statistics.\n",
    "    \"\"\"\n",
    "    summary = {}\n",
    "\n",
    "    # Total rows and columns\n",
    "    summary['total_tracks'] = data.shape[0]\n",
    "    summary['total_columns'] = data.shape[1]\n",
    "\n",
    "    # Unique counts and range of years\n",
    "    summary['unique_artists'] = data['artist_name'].nunique()\n",
    "    summary['unique_tracks'] = data['track_name'].nunique()\n",
    "    summary['year_range'] = (data['year'].min(), data['year'].max())\n",
    "\n",
    "    # Genre insights\n",
    "    summary['unique_genres'] = data['genre'].nunique()\n",
    "    summary['genre_distribution'] = data['genre'].value_counts().head(5).to_dict()  # Top 5 genres\n",
    "\n",
    "    # Track duration statistics\n",
    "    summary['average_duration'] = round(data['duration_ms'].mean() / 1000, 2)  # seconds\n",
    "    summary['median_duration'] = round(data['duration_ms'].median() / 1000, 2)\n",
    "    summary['longest_track'] = data.loc[data['duration_ms'].idxmax(), ['track_name', 'artist_name', 'genre']].to_dict()\n",
    "    summary['shortest_track'] = data.loc[data['duration_ms'].idxmin(), ['track_name', 'artist_name', 'genre']].to_dict()\n",
    "\n",
    "    # Most frequent artist\n",
    "    summary['most_frequent_artist'] = data['artist_name'].mode()[0]\n",
    "\n",
    "    # Print or return summary\n",
    "    for key, value in summary.items():\n",
    "        print(f\"{key.replace('_', ' ').capitalize()}: {value}\")\n",
    "    return summary"
   ]
  },
  {
   "cell_type": "code",
   "execution_count": 6,
   "metadata": {
    "colab": {
     "base_uri": "https://localhost:8080/"
    },
    "executionInfo": {
     "elapsed": 827,
     "status": "ok",
     "timestamp": 1730915086669,
     "user": {
      "displayName": "Mark Kibui",
      "userId": "08263058941382842012"
     },
     "user_tz": -180
    },
    "id": "t2JwSsx5f8D5",
    "outputId": "38487a30-4d4d-4d43-d90d-fe6469394e56",
    "scrolled": false
   },
   "outputs": [
    {
     "name": "stdout",
     "output_type": "stream",
     "text": [
      "Total tracks: 1159764\n",
      "Total columns: 19\n",
      "Unique artists: 64158\n",
      "Unique tracks: 882360\n",
      "Year range: (2000, 2023)\n",
      "Unique genres: 82\n",
      "Genre distribution: {'black-metal': 21852, 'gospel': 21621, 'ambient': 21389, 'acoustic': 21097, 'alt-rock': 20918}\n",
      "Average duration: 249.56\n",
      "Median duration: 225.74\n",
      "Longest track: {'track_name': 'Babbling Brook Close Up', 'artist_name': 'Nature Sounds', 'genre': 'sleep'}\n",
      "Shortest track: {'track_name': 'Dominatrix', 'artist_name': 'Olivia Neutered John', 'genre': 'grindcore'}\n",
      "Most frequent artist: Traditional\n"
     ]
    },
    {
     "data": {
      "text/plain": [
       "{'total_tracks': 1159764,\n",
       " 'total_columns': 19,\n",
       " 'unique_artists': 64158,\n",
       " 'unique_tracks': 882360,\n",
       " 'year_range': (2000, 2023),\n",
       " 'unique_genres': 82,\n",
       " 'genre_distribution': {'black-metal': 21852,\n",
       "  'gospel': 21621,\n",
       "  'ambient': 21389,\n",
       "  'acoustic': 21097,\n",
       "  'alt-rock': 20918},\n",
       " 'average_duration': 249.56,\n",
       " 'median_duration': 225.74,\n",
       " 'longest_track': {'track_name': 'Babbling Brook Close Up',\n",
       "  'artist_name': 'Nature Sounds',\n",
       "  'genre': 'sleep'},\n",
       " 'shortest_track': {'track_name': 'Dominatrix',\n",
       "  'artist_name': 'Olivia Neutered John',\n",
       "  'genre': 'grindcore'},\n",
       " 'most_frequent_artist': 'Traditional'}"
      ]
     },
     "execution_count": 6,
     "metadata": {},
     "output_type": "execute_result"
    }
   ],
   "source": [
    "data_summary(df)"
   ]
  },
  {
   "cell_type": "code",
   "execution_count": 7,
   "metadata": {
    "id": "Kmxtnq8ZVCTs",
    "outputId": "a8461858-c479-407f-f85d-7183ce4e2235"
   },
   "outputs": [
    {
     "name": "stdout",
     "output_type": "stream",
     "text": [
      "Most common genre per year:\n"
     ]
    },
    {
     "data": {
      "text/plain": [
       "{2000: 'ambient',\n",
       " 2001: 'ambient',\n",
       " 2002: 'gospel',\n",
       " 2003: 'ambient',\n",
       " 2004: 'ambient',\n",
       " 2005: 'ambient',\n",
       " 2006: 'indian',\n",
       " 2007: 'ambient',\n",
       " 2008: 'ambient',\n",
       " 2009: 'comedy',\n",
       " 2010: 'ambient',\n",
       " 2011: 'comedy',\n",
       " 2012: 'black-metal',\n",
       " 2013: 'comedy',\n",
       " 2014: 'comedy',\n",
       " 2015: 'comedy',\n",
       " 2016: 'acoustic',\n",
       " 2017: 'comedy',\n",
       " 2018: 'comedy',\n",
       " 2019: 'comedy',\n",
       " 2020: 'comedy',\n",
       " 2021: 'chill',\n",
       " 2022: 'comedy',\n",
       " 2023: 'black-metal'}"
      ]
     },
     "execution_count": 7,
     "metadata": {},
     "output_type": "execute_result"
    }
   ],
   "source": [
    "# Most common genre\n",
    "# Group the data by year and find the most common genre for each year\n",
    "most_common_genre_per_year = (\n",
    "    df.groupby('year')['genre']\n",
    "    .agg(lambda x: x.mode()[0] if not x.mode().empty else None)\n",
    "    .to_dict()\n",
    ")\n",
    "\n",
    "# Display the dictionary\n",
    "print(\"Most common genre per year:\")\n",
    "most_common_genre_per_year"
   ]
  },
  {
   "cell_type": "code",
   "execution_count": 8,
   "metadata": {
    "colab": {
     "base_uri": "https://localhost:8080/",
     "height": 680
    },
    "executionInfo": {
     "elapsed": 375,
     "status": "ok",
     "timestamp": 1730915087043,
     "user": {
      "displayName": "Mark Kibui",
      "userId": "08263058941382842012"
     },
     "user_tz": -180
    },
    "id": "RmtMQCd-oPS5",
    "outputId": "d9500bd0-cc18-4034-fa12-ee62b4f3a0a6"
   },
   "outputs": [
    {
     "data": {
      "text/plain": [
       "artist_name         15\n",
       "track_name           1\n",
       "track_id             0\n",
       "popularity           0\n",
       "year                 0\n",
       "genre                0\n",
       "danceability         0\n",
       "energy               0\n",
       "key                  0\n",
       "loudness             0\n",
       "mode                 0\n",
       "speechiness          0\n",
       "acousticness         0\n",
       "instrumentalness     0\n",
       "liveness             0\n",
       "valence              0\n",
       "tempo                0\n",
       "duration_ms          0\n",
       "time_signature       0\n",
       "dtype: int64"
      ]
     },
     "execution_count": 8,
     "metadata": {},
     "output_type": "execute_result"
    }
   ],
   "source": [
    "# Check for null values\n",
    "null_values = df.isna().sum()\n",
    "null_values"
   ]
  },
  {
   "cell_type": "code",
   "execution_count": 9,
   "metadata": {
    "colab": {
     "base_uri": "https://localhost:8080/",
     "height": 680
    },
    "executionInfo": {
     "elapsed": 360,
     "status": "ok",
     "timestamp": 1730915087396,
     "user": {
      "displayName": "Mark Kibui",
      "userId": "08263058941382842012"
     },
     "user_tz": -180
    },
    "id": "lgli5ZyVsD9M",
    "outputId": "f7f4fac3-02a8-4ab1-c8c0-b6cd34544901"
   },
   "outputs": [
    {
     "data": {
      "text/plain": [
       "artist_name         0\n",
       "track_name          0\n",
       "track_id            0\n",
       "popularity          0\n",
       "year                0\n",
       "genre               0\n",
       "danceability        0\n",
       "energy              0\n",
       "key                 0\n",
       "loudness            0\n",
       "mode                0\n",
       "speechiness         0\n",
       "acousticness        0\n",
       "instrumentalness    0\n",
       "liveness            0\n",
       "valence             0\n",
       "tempo               0\n",
       "duration_ms         0\n",
       "time_signature      0\n",
       "dtype: int64"
      ]
     },
     "execution_count": 9,
     "metadata": {},
     "output_type": "execute_result"
    }
   ],
   "source": [
    "# Since there is now way we could get the name of artists or track due to multiple titles that exist, we can drop them\n",
    "df = df.dropna()\n",
    "df.isna().sum()"
   ]
  },
  {
   "cell_type": "code",
   "execution_count": 10,
   "metadata": {
    "colab": {
     "base_uri": "https://localhost:8080/"
    },
    "executionInfo": {
     "elapsed": 1224,
     "status": "ok",
     "timestamp": 1730915088613,
     "user": {
      "displayName": "Mark Kibui",
      "userId": "08263058941382842012"
     },
     "user_tz": -180
    },
    "id": "AzYiIcvmoRo-",
    "outputId": "ec9ea5e3-e8ed-410e-8e67-402808e1b0b3"
   },
   "outputs": [
    {
     "data": {
      "text/plain": [
       "0"
      ]
     },
     "execution_count": 10,
     "metadata": {},
     "output_type": "execute_result"
    }
   ],
   "source": [
    "# Check for duplicates\n",
    "df.duplicated().sum()"
   ]
  },
  {
   "cell_type": "code",
   "execution_count": 11,
   "metadata": {
    "colab": {
     "base_uri": "https://localhost:8080/"
    },
    "executionInfo": {
     "elapsed": 10,
     "status": "ok",
     "timestamp": 1730915088614,
     "user": {
      "displayName": "Mark Kibui",
      "userId": "08263058941382842012"
     },
     "user_tz": -180
    },
    "id": "0EdiNItHv32B",
    "outputId": "adf29034-b1f0-435d-fb8f-a360bb3081e3"
   },
   "outputs": [
    {
     "data": {
      "text/plain": [
       "Index(['artist_name', 'track_name', 'track_id', 'popularity', 'year', 'genre',\n",
       "       'danceability', 'energy', 'key', 'loudness', 'mode', 'speechiness',\n",
       "       'acousticness', 'instrumentalness', 'liveness', 'valence', 'tempo',\n",
       "       'duration_ms', 'time_signature'],\n",
       "      dtype='object')"
      ]
     },
     "execution_count": 11,
     "metadata": {},
     "output_type": "execute_result"
    }
   ],
   "source": [
    "df.columns"
   ]
  },
  {
   "cell_type": "markdown",
   "metadata": {
    "id": "KQ526-m7xDk_"
   },
   "source": [
    "**Skewness:**\n",
    "\n",
    "Measures the asymmetry of the distribution.\n",
    "Positive skew indicates a long tail on the right.\n",
    "Negative skew indicates a long tail on the left.\n",
    "\n",
    "**Kurtosis:**\n",
    "\n",
    "Measures the \"tailedness\" of the distribution.\n",
    "A high kurtosis indicates a distribution with heavier tails.\n",
    "A low kurtosis indicates a distribution with lighter tails."
   ]
  },
  {
   "cell_type": "code",
   "execution_count": 12,
   "metadata": {
    "colab": {
     "base_uri": "https://localhost:8080/"
    },
    "executionInfo": {
     "elapsed": 8,
     "status": "ok",
     "timestamp": 1730915088614,
     "user": {
      "displayName": "Mark Kibui",
      "userId": "08263058941382842012"
     },
     "user_tz": -180
    },
    "id": "NQLlCKNfuFaF",
    "outputId": "a18ecbc5-5d61-4f1b-b26a-ecdb48edd860"
   },
   "outputs": [
    {
     "name": "stdout",
     "output_type": "stream",
     "text": [
      "Skewness:\n",
      " popularity           0.810033\n",
      "year                -0.110886\n",
      "danceability        -0.300162\n",
      "energy              -0.617285\n",
      "key                 -0.000085\n",
      "loudness            -1.908822\n",
      "mode                -0.559289\n",
      "speechiness          4.473831\n",
      "acousticness         0.708284\n",
      "instrumentalness     0.970880\n",
      "liveness             1.955640\n",
      "valence              0.173532\n",
      "tempo                0.237165\n",
      "duration_ms         10.301177\n",
      "time_signature      -3.550804\n",
      "dtype: float64\n",
      "\n",
      "Kurtosis:\n",
      " popularity            0.065254\n",
      "year                 -1.169703\n",
      "danceability         -0.501779\n",
      "energy               -0.649378\n",
      "key                  -1.286298\n",
      "loudness              4.863285\n",
      "mode                 -1.687199\n",
      "speechiness          23.917106\n",
      "acousticness         -1.068162\n",
      "instrumentalness     -0.861880\n",
      "liveness              3.502836\n",
      "valence              -1.077568\n",
      "tempo                -0.099001\n",
      "duration_ms         228.305416\n",
      "time_signature       19.754864\n",
      "dtype: float64\n"
     ]
    }
   ],
   "source": [
    "# Statistical check: Skewness and Kurtosis\n",
    "numerical_cols_df = df[['popularity', 'year',\n",
    "       'danceability', 'energy', 'key', 'loudness', 'mode', 'speechiness',\n",
    "       'acousticness', 'instrumentalness', 'liveness', 'valence', 'tempo',\n",
    "       'duration_ms', 'time_signature']]\n",
    "skewness = numerical_cols_df.skew()\n",
    "kurtosis = numerical_cols_df.kurtosis()\n",
    "\n",
    "print(\"Skewness:\\n\", skewness)\n",
    "print(\"\\nKurtosis:\\n\", kurtosis)"
   ]
  },
  {
   "cell_type": "code",
   "execution_count": 13,
   "metadata": {
    "colab": {
     "base_uri": "https://localhost:8080/",
     "height": 573
    },
    "executionInfo": {
     "elapsed": 5207,
     "status": "ok",
     "timestamp": 1730915093815,
     "user": {
      "displayName": "Mark Kibui",
      "userId": "08263058941382842012"
     },
     "user_tz": -180
    },
    "id": "OohD9P_42x8a",
    "outputId": "f839cd43-f482-4a0f-ce5d-e38c4679b56c"
   },
   "outputs": [
    {
     "data": {
      "image/png": "[encoded data removed]",
      "text/plain": [
       "<Figure size 1200x600 with 1 Axes>"
      ]
     },
     "metadata": {},
     "output_type": "display_data"
    }
   ],
   "source": [
    "# Create a histogram for duration_ms\n",
    "# Convert duration from milliseconds to minutes (new column)\n",
    "df['duration_minutes'] = df['duration_ms'] / 60000\n",
    "\n",
    "# Set the style for the plot\n",
    "sns.set(style=\"whitegrid\")\n",
    "\n",
    "# Create a histogram for duration_minutes\n",
    "plt.figure(figsize=(12, 6))\n",
    "sns.histplot(df['duration_minutes'], bins=30, kde=True)  # Adjust the number of bins as needed\n",
    "plt.title('Histogram of Song Duration (minutes)')\n",
    "plt.xlabel('Duration (minutes)')\n",
    "plt.ylabel('Frequency')\n",
    "plt.xlim(0, df['duration_minutes'].max() + 1)  # Set x-axis limit slightly above max duration for clarity\n",
    "plt.show()"
   ]
  },
  {
   "cell_type": "markdown",
   "metadata": {
    "id": "eKSYP-OnYsjO"
   },
   "source": [
    " - For songs that are in 7 to 15 minute range, most are live performances which tend to take long.\n",
    " - Those beyond 15 minutes to 100 are tracks that aren't songs but could be rain sounds that help people sleep hence take long to play entirely. This can be visualized below.\n"
   ]
  },
  {
   "cell_type": "code",
   "execution_count": 14,
   "metadata": {
    "colab": {
     "base_uri": "https://localhost:8080/",
     "height": 476
    },
    "executionInfo": {
     "elapsed": 1244,
     "status": "ok",
     "timestamp": 1730915095051,
     "user": {
      "displayName": "Mark Kibui",
      "userId": "08263058941382842012"
     },
     "user_tz": -180
    },
    "id": "9ImjktkoZ2RO",
    "outputId": "a0da14b9-f5b6-45ef-df68-9fb9d237393d"
   },
   "outputs": [
    {
     "name": "stderr",
     "output_type": "stream",
     "text": [
      "C:\\Users\\Hp\\anaconda3\\Lib\\site-packages\\seaborn\\categorical.py:632: FutureWarning: SeriesGroupBy.grouper is deprecated and will be removed in a future version of pandas.\n",
      "  positions = grouped.grouper.result_index.to_numpy(dtype=float)\n"
     ]
    },
    {
     "data": {
      "text/plain": [
       "<Axes: xlabel='duration_minutes'>"
      ]
     },
     "execution_count": 14,
     "metadata": {},
     "output_type": "execute_result"
    },
    {
     "data": {
      "image/png": "[encoded data removed]",
      "text/plain": [
       "<Figure size 640x480 with 1 Axes>"
      ]
     },
     "metadata": {},
     "output_type": "display_data"
    }
   ],
   "source": [
    "# Time duaration from tracks\n",
    "sns.boxplot(x=df['duration_minutes'])"
   ]
  },
  {
   "cell_type": "code",
   "execution_count": 15,
   "metadata": {
    "colab": {
     "base_uri": "https://localhost:8080/",
     "height": 476
    },
    "executionInfo": {
     "elapsed": 1640,
     "status": "ok",
     "timestamp": 1730915096684,
     "user": {
      "displayName": "Mark Kibui",
      "userId": "08263058941382842012"
     },
     "user_tz": -180
    },
    "id": "btRVZ0o7aDDy",
    "outputId": "c65886e5-c8af-4b86-8be1-a8ba3d8a41a1"
   },
   "outputs": [
    {
     "name": "stderr",
     "output_type": "stream",
     "text": [
      "C:\\Users\\Hp\\anaconda3\\Lib\\site-packages\\seaborn\\categorical.py:632: FutureWarning: SeriesGroupBy.grouper is deprecated and will be removed in a future version of pandas.\n",
      "  positions = grouped.grouper.result_index.to_numpy(dtype=float)\n"
     ]
    },
    {
     "data": {
      "text/plain": [
       "<Axes: xlabel='popularity'>"
      ]
     },
     "execution_count": 15,
     "metadata": {},
     "output_type": "execute_result"
    },
    {
     "data": {
      "image/png": "[encoded data removed]",
      "text/plain": [
       "<Figure size 640x480 with 1 Axes>"
      ]
     },
     "metadata": {},
     "output_type": "display_data"
    }
   ],
   "source": [
    "# Popularity visualization\n",
    "sns.boxplot(x=df['popularity'])"
   ]
  },
  {
   "cell_type": "markdown",
   "metadata": {
    "id": "7-nHDKZibBPt"
   },
   "source": [
    "- Seems to be a few songs that are popular than the general data shows. This is expected when it comes to songs from top artists\n",
    "- 100 minute songs seems unrealistic. Check them by manually searching a sample of them. Beginning by filtering out songs longer than 7 minutes and less that 15 minutes"
   ]
  },
  {
   "cell_type": "code",
   "execution_count": 16,
   "metadata": {
    "colab": {
     "base_uri": "https://localhost:8080/",
     "height": 241
    },
    "executionInfo": {
     "elapsed": 473,
     "status": "ok",
     "timestamp": 1730915097150,
     "user": {
      "displayName": "Mark Kibui",
      "userId": "08263058941382842012"
     },
     "user_tz": -180
    },
    "id": "1T6qjihFby_Q",
    "outputId": "0e7ef3a4-dfe9-4b73-b506-fa7e49881a1b"
   },
   "outputs": [
    {
     "data": {
      "text/html": [
       "<div>\n",
       "<style scoped>\n",
       "    .dataframe tbody tr th:only-of-type {\n",
       "        vertical-align: middle;\n",
       "    }\n",
       "\n",
       "    .dataframe tbody tr th {\n",
       "        vertical-align: top;\n",
       "    }\n",
       "\n",
       "    .dataframe thead th {\n",
       "        text-align: right;\n",
       "    }\n",
       "</style>\n",
       "<table border=\"1\" class=\"dataframe\">\n",
       "  <thead>\n",
       "    <tr style=\"text-align: right;\">\n",
       "      <th></th>\n",
       "      <th>artist_name</th>\n",
       "      <th>track_name</th>\n",
       "      <th>track_id</th>\n",
       "      <th>popularity</th>\n",
       "      <th>year</th>\n",
       "      <th>genre</th>\n",
       "      <th>danceability</th>\n",
       "      <th>energy</th>\n",
       "      <th>key</th>\n",
       "      <th>loudness</th>\n",
       "      <th>mode</th>\n",
       "      <th>speechiness</th>\n",
       "      <th>acousticness</th>\n",
       "      <th>instrumentalness</th>\n",
       "      <th>liveness</th>\n",
       "      <th>valence</th>\n",
       "      <th>tempo</th>\n",
       "      <th>duration_ms</th>\n",
       "      <th>time_signature</th>\n",
       "      <th>duration_minutes</th>\n",
       "    </tr>\n",
       "  </thead>\n",
       "  <tbody>\n",
       "    <tr>\n",
       "      <th>103535</th>\n",
       "      <td>Dean Evenson</td>\n",
       "      <td>River &amp; Forest</td>\n",
       "      <td>5eOE2heqHXkNK6JtJBYcEh</td>\n",
       "      <td>11</td>\n",
       "      <td>2013</td>\n",
       "      <td>sleep</td>\n",
       "      <td>0.105</td>\n",
       "      <td>0.991</td>\n",
       "      <td>2</td>\n",
       "      <td>-28.225</td>\n",
       "      <td>1</td>\n",
       "      <td>0.0607</td>\n",
       "      <td>0.699000</td>\n",
       "      <td>0.95000</td>\n",
       "      <td>0.8970</td>\n",
       "      <td>0.00001</td>\n",
       "      <td>71.743</td>\n",
       "      <td>899907</td>\n",
       "      <td>3</td>\n",
       "      <td>14.998450</td>\n",
       "    </tr>\n",
       "    <tr>\n",
       "      <th>105982</th>\n",
       "      <td>La Fleur</td>\n",
       "      <td>Nightflow - Kenny Larkin Drama Mix</td>\n",
       "      <td>0GCpvx0AVrRVavO0SsJGO9</td>\n",
       "      <td>11</td>\n",
       "      <td>2013</td>\n",
       "      <td>swedish</td>\n",
       "      <td>0.917</td>\n",
       "      <td>0.472</td>\n",
       "      <td>11</td>\n",
       "      <td>-10.165</td>\n",
       "      <td>0</td>\n",
       "      <td>0.1300</td>\n",
       "      <td>0.002620</td>\n",
       "      <td>0.10400</td>\n",
       "      <td>0.0763</td>\n",
       "      <td>0.20800</td>\n",
       "      <td>124.015</td>\n",
       "      <td>899864</td>\n",
       "      <td>4</td>\n",
       "      <td>14.997733</td>\n",
       "    </tr>\n",
       "    <tr>\n",
       "      <th>209244</th>\n",
       "      <td>Mägo de Oz</td>\n",
       "      <td>Finisterra - 2015</td>\n",
       "      <td>5EtziAX36pgTziXYH4qs1B</td>\n",
       "      <td>32</td>\n",
       "      <td>2015</td>\n",
       "      <td>spanish</td>\n",
       "      <td>0.219</td>\n",
       "      <td>0.916</td>\n",
       "      <td>4</td>\n",
       "      <td>-4.349</td>\n",
       "      <td>0</td>\n",
       "      <td>0.1030</td>\n",
       "      <td>0.005950</td>\n",
       "      <td>0.00114</td>\n",
       "      <td>0.7040</td>\n",
       "      <td>0.43400</td>\n",
       "      <td>74.951</td>\n",
       "      <td>899800</td>\n",
       "      <td>4</td>\n",
       "      <td>14.996667</td>\n",
       "    </tr>\n",
       "    <tr>\n",
       "      <th>624758</th>\n",
       "      <td>Lustmord</td>\n",
       "      <td>Black Star</td>\n",
       "      <td>4ikSsfzbD6BNuyWA60x0CO</td>\n",
       "      <td>21</td>\n",
       "      <td>2000</td>\n",
       "      <td>ambient</td>\n",
       "      <td>0.166</td>\n",
       "      <td>0.382</td>\n",
       "      <td>6</td>\n",
       "      <td>-15.946</td>\n",
       "      <td>1</td>\n",
       "      <td>0.0448</td>\n",
       "      <td>0.683000</td>\n",
       "      <td>0.96100</td>\n",
       "      <td>0.6650</td>\n",
       "      <td>0.03590</td>\n",
       "      <td>133.107</td>\n",
       "      <td>899696</td>\n",
       "      <td>4</td>\n",
       "      <td>14.994933</td>\n",
       "    </tr>\n",
       "    <tr>\n",
       "      <th>278246</th>\n",
       "      <td>Derisier</td>\n",
       "      <td>Debloke'm Pou Yo We</td>\n",
       "      <td>65KHxK2bgbxWfsyhGEFUz8</td>\n",
       "      <td>22</td>\n",
       "      <td>2017</td>\n",
       "      <td>gospel</td>\n",
       "      <td>0.384</td>\n",
       "      <td>0.855</td>\n",
       "      <td>7</td>\n",
       "      <td>-8.011</td>\n",
       "      <td>1</td>\n",
       "      <td>0.0813</td>\n",
       "      <td>0.219000</td>\n",
       "      <td>0.00000</td>\n",
       "      <td>0.3540</td>\n",
       "      <td>0.74900</td>\n",
       "      <td>99.023</td>\n",
       "      <td>899693</td>\n",
       "      <td>4</td>\n",
       "      <td>14.994883</td>\n",
       "    </tr>\n",
       "    <tr>\n",
       "      <th>...</th>\n",
       "      <td>...</td>\n",
       "      <td>...</td>\n",
       "      <td>...</td>\n",
       "      <td>...</td>\n",
       "      <td>...</td>\n",
       "      <td>...</td>\n",
       "      <td>...</td>\n",
       "      <td>...</td>\n",
       "      <td>...</td>\n",
       "      <td>...</td>\n",
       "      <td>...</td>\n",
       "      <td>...</td>\n",
       "      <td>...</td>\n",
       "      <td>...</td>\n",
       "      <td>...</td>\n",
       "      <td>...</td>\n",
       "      <td>...</td>\n",
       "      <td>...</td>\n",
       "      <td>...</td>\n",
       "      <td>...</td>\n",
       "    </tr>\n",
       "    <tr>\n",
       "      <th>1197497</th>\n",
       "      <td>Krystian Shek</td>\n",
       "      <td>Mongopusher - E-Minor Mix</td>\n",
       "      <td>7rgct1cQflRRjWAuzevoJT</td>\n",
       "      <td>0</td>\n",
       "      <td>2008</td>\n",
       "      <td>chill</td>\n",
       "      <td>0.801</td>\n",
       "      <td>0.397</td>\n",
       "      <td>7</td>\n",
       "      <td>-13.368</td>\n",
       "      <td>1</td>\n",
       "      <td>0.0814</td>\n",
       "      <td>0.002580</td>\n",
       "      <td>0.83000</td>\n",
       "      <td>0.0545</td>\n",
       "      <td>0.42600</td>\n",
       "      <td>123.997</td>\n",
       "      <td>420005</td>\n",
       "      <td>4</td>\n",
       "      <td>7.000083</td>\n",
       "    </tr>\n",
       "    <tr>\n",
       "      <th>1234792</th>\n",
       "      <td>MiniCoolBoyz</td>\n",
       "      <td>Our Stomach</td>\n",
       "      <td>4PBLd5DxsScWZyphJRIaJK</td>\n",
       "      <td>0</td>\n",
       "      <td>2008</td>\n",
       "      <td>minimal-techno</td>\n",
       "      <td>0.807</td>\n",
       "      <td>0.446</td>\n",
       "      <td>10</td>\n",
       "      <td>-11.706</td>\n",
       "      <td>0</td>\n",
       "      <td>0.1160</td>\n",
       "      <td>0.139000</td>\n",
       "      <td>0.84200</td>\n",
       "      <td>0.0948</td>\n",
       "      <td>0.03980</td>\n",
       "      <td>127.979</td>\n",
       "      <td>420003</td>\n",
       "      <td>4</td>\n",
       "      <td>7.000050</td>\n",
       "    </tr>\n",
       "    <tr>\n",
       "      <th>798612</th>\n",
       "      <td>Leggo Beast</td>\n",
       "      <td>Elephant Legs</td>\n",
       "      <td>4duJPpY7UqJCGEyXgf39Re</td>\n",
       "      <td>0</td>\n",
       "      <td>2002</td>\n",
       "      <td>ambient</td>\n",
       "      <td>0.771</td>\n",
       "      <td>0.377</td>\n",
       "      <td>6</td>\n",
       "      <td>-18.424</td>\n",
       "      <td>0</td>\n",
       "      <td>0.0513</td>\n",
       "      <td>0.223000</td>\n",
       "      <td>0.83700</td>\n",
       "      <td>0.0961</td>\n",
       "      <td>0.22500</td>\n",
       "      <td>119.991</td>\n",
       "      <td>420003</td>\n",
       "      <td>4</td>\n",
       "      <td>7.000050</td>\n",
       "    </tr>\n",
       "    <tr>\n",
       "      <th>740659</th>\n",
       "      <td>DJ Fixx</td>\n",
       "      <td>Make The Beat Pound</td>\n",
       "      <td>0NgbI3WDsUNQHVw4e2Il8E</td>\n",
       "      <td>0</td>\n",
       "      <td>2001</td>\n",
       "      <td>breakbeat</td>\n",
       "      <td>0.784</td>\n",
       "      <td>0.863</td>\n",
       "      <td>10</td>\n",
       "      <td>-12.327</td>\n",
       "      <td>0</td>\n",
       "      <td>0.0763</td>\n",
       "      <td>0.000072</td>\n",
       "      <td>0.89600</td>\n",
       "      <td>0.0822</td>\n",
       "      <td>0.53700</td>\n",
       "      <td>135.977</td>\n",
       "      <td>420001</td>\n",
       "      <td>4</td>\n",
       "      <td>7.000017</td>\n",
       "    </tr>\n",
       "    <tr>\n",
       "      <th>1305909</th>\n",
       "      <td>Paul Ritch</td>\n",
       "      <td>Murder</td>\n",
       "      <td>1JryQZI91i0XM8YlaTjg03</td>\n",
       "      <td>7</td>\n",
       "      <td>2009</td>\n",
       "      <td>minimal-techno</td>\n",
       "      <td>0.802</td>\n",
       "      <td>0.341</td>\n",
       "      <td>10</td>\n",
       "      <td>-13.995</td>\n",
       "      <td>0</td>\n",
       "      <td>0.0725</td>\n",
       "      <td>0.000998</td>\n",
       "      <td>0.88800</td>\n",
       "      <td>0.1090</td>\n",
       "      <td>0.15700</td>\n",
       "      <td>124.002</td>\n",
       "      <td>420001</td>\n",
       "      <td>4</td>\n",
       "      <td>7.000017</td>\n",
       "    </tr>\n",
       "  </tbody>\n",
       "</table>\n",
       "<p>72004 rows × 20 columns</p>\n",
       "</div>"
      ],
      "text/plain": [
       "           artist_name                          track_name  \\\n",
       "103535    Dean Evenson                      River & Forest   \n",
       "105982        La Fleur  Nightflow - Kenny Larkin Drama Mix   \n",
       "209244      Mägo de Oz                   Finisterra - 2015   \n",
       "624758        Lustmord                          Black Star   \n",
       "278246        Derisier                 Debloke'm Pou Yo We   \n",
       "...                ...                                 ...   \n",
       "1197497  Krystian Shek           Mongopusher - E-Minor Mix   \n",
       "1234792   MiniCoolBoyz                         Our Stomach   \n",
       "798612     Leggo Beast                       Elephant Legs   \n",
       "740659         DJ Fixx                 Make The Beat Pound   \n",
       "1305909     Paul Ritch                              Murder   \n",
       "\n",
       "                       track_id  popularity  year           genre  \\\n",
       "103535   5eOE2heqHXkNK6JtJBYcEh          11  2013           sleep   \n",
       "105982   0GCpvx0AVrRVavO0SsJGO9          11  2013         swedish   \n",
       "209244   5EtziAX36pgTziXYH4qs1B          32  2015         spanish   \n",
       "624758   4ikSsfzbD6BNuyWA60x0CO          21  2000         ambient   \n",
       "278246   65KHxK2bgbxWfsyhGEFUz8          22  2017          gospel   \n",
       "...                         ...         ...   ...             ...   \n",
       "1197497  7rgct1cQflRRjWAuzevoJT           0  2008           chill   \n",
       "1234792  4PBLd5DxsScWZyphJRIaJK           0  2008  minimal-techno   \n",
       "798612   4duJPpY7UqJCGEyXgf39Re           0  2002         ambient   \n",
       "740659   0NgbI3WDsUNQHVw4e2Il8E           0  2001       breakbeat   \n",
       "1305909  1JryQZI91i0XM8YlaTjg03           7  2009  minimal-techno   \n",
       "\n",
       "         danceability  energy  key  loudness  mode  speechiness  acousticness  \\\n",
       "103535          0.105   0.991    2   -28.225     1       0.0607      0.699000   \n",
       "105982          0.917   0.472   11   -10.165     0       0.1300      0.002620   \n",
       "209244          0.219   0.916    4    -4.349     0       0.1030      0.005950   \n",
       "624758          0.166   0.382    6   -15.946     1       0.0448      0.683000   \n",
       "278246          0.384   0.855    7    -8.011     1       0.0813      0.219000   \n",
       "...               ...     ...  ...       ...   ...          ...           ...   \n",
       "1197497         0.801   0.397    7   -13.368     1       0.0814      0.002580   \n",
       "1234792         0.807   0.446   10   -11.706     0       0.1160      0.139000   \n",
       "798612          0.771   0.377    6   -18.424     0       0.0513      0.223000   \n",
       "740659          0.784   0.863   10   -12.327     0       0.0763      0.000072   \n",
       "1305909         0.802   0.341   10   -13.995     0       0.0725      0.000998   \n",
       "\n",
       "         instrumentalness  liveness  valence    tempo  duration_ms  \\\n",
       "103535            0.95000    0.8970  0.00001   71.743       899907   \n",
       "105982            0.10400    0.0763  0.20800  124.015       899864   \n",
       "209244            0.00114    0.7040  0.43400   74.951       899800   \n",
       "624758            0.96100    0.6650  0.03590  133.107       899696   \n",
       "278246            0.00000    0.3540  0.74900   99.023       899693   \n",
       "...                   ...       ...      ...      ...          ...   \n",
       "1197497           0.83000    0.0545  0.42600  123.997       420005   \n",
       "1234792           0.84200    0.0948  0.03980  127.979       420003   \n",
       "798612            0.83700    0.0961  0.22500  119.991       420003   \n",
       "740659            0.89600    0.0822  0.53700  135.977       420001   \n",
       "1305909           0.88800    0.1090  0.15700  124.002       420001   \n",
       "\n",
       "         time_signature  duration_minutes  \n",
       "103535                3         14.998450  \n",
       "105982                4         14.997733  \n",
       "209244                4         14.996667  \n",
       "624758                4         14.994933  \n",
       "278246                4         14.994883  \n",
       "...                 ...               ...  \n",
       "1197497               4          7.000083  \n",
       "1234792               4          7.000050  \n",
       "798612                4          7.000050  \n",
       "740659                4          7.000017  \n",
       "1305909               4          7.000017  \n",
       "\n",
       "[72004 rows x 20 columns]"
      ]
     },
     "execution_count": 16,
     "metadata": {},
     "output_type": "execute_result"
    }
   ],
   "source": [
    "# Filter for songs with duration greater than 7 minutes but less than 15 minutes\n",
    "filtered_songs = df[(df['duration_minutes'] > 7) & (df['duration_minutes'] < 15)].sort_values(by='duration_minutes', ascending=False)\n",
    "filtered_songs"
   ]
  },
  {
   "cell_type": "code",
   "execution_count": 17,
   "metadata": {
    "colab": {
     "base_uri": "https://localhost:8080/",
     "height": 112
    },
    "executionInfo": {
     "elapsed": 22,
     "status": "ok",
     "timestamp": 1730915097150,
     "user": {
      "displayName": "Mark Kibui",
      "userId": "08263058941382842012"
     },
     "user_tz": -180
    },
    "id": "lvAtDq97c-XA",
    "outputId": "f2445bd8-13d8-4e25-d9dd-9a4838d77681"
   },
   "outputs": [
    {
     "data": {
      "text/html": [
       "<div>\n",
       "<style scoped>\n",
       "    .dataframe tbody tr th:only-of-type {\n",
       "        vertical-align: middle;\n",
       "    }\n",
       "\n",
       "    .dataframe tbody tr th {\n",
       "        vertical-align: top;\n",
       "    }\n",
       "\n",
       "    .dataframe thead th {\n",
       "        text-align: right;\n",
       "    }\n",
       "</style>\n",
       "<table border=\"1\" class=\"dataframe\">\n",
       "  <thead>\n",
       "    <tr style=\"text-align: right;\">\n",
       "      <th></th>\n",
       "      <th>artist_name</th>\n",
       "      <th>track_name</th>\n",
       "      <th>track_id</th>\n",
       "      <th>popularity</th>\n",
       "      <th>year</th>\n",
       "      <th>genre</th>\n",
       "      <th>danceability</th>\n",
       "      <th>energy</th>\n",
       "      <th>key</th>\n",
       "      <th>loudness</th>\n",
       "      <th>mode</th>\n",
       "      <th>speechiness</th>\n",
       "      <th>acousticness</th>\n",
       "      <th>instrumentalness</th>\n",
       "      <th>liveness</th>\n",
       "      <th>valence</th>\n",
       "      <th>tempo</th>\n",
       "      <th>duration_ms</th>\n",
       "      <th>time_signature</th>\n",
       "      <th>duration_minutes</th>\n",
       "    </tr>\n",
       "  </thead>\n",
       "  <tbody>\n",
       "    <tr>\n",
       "      <th>1471560</th>\n",
       "      <td>Schiller</td>\n",
       "      <td>Zenit (feat. Klaus Schulze)</td>\n",
       "      <td>63J6glG0l2YgqONow1t2ZP</td>\n",
       "      <td>1</td>\n",
       "      <td>2011</td>\n",
       "      <td>techno</td>\n",
       "      <td>0.509</td>\n",
       "      <td>0.806</td>\n",
       "      <td>10</td>\n",
       "      <td>-13.016</td>\n",
       "      <td>0</td>\n",
       "      <td>0.0331</td>\n",
       "      <td>0.110</td>\n",
       "      <td>0.9400</td>\n",
       "      <td>0.368</td>\n",
       "      <td>0.622</td>\n",
       "      <td>95.005</td>\n",
       "      <td>1088080</td>\n",
       "      <td>4</td>\n",
       "      <td>18.134667</td>\n",
       "    </tr>\n",
       "    <tr>\n",
       "      <th>96198</th>\n",
       "      <td>Grateful Dead</td>\n",
       "      <td>Shakedown Street - Live at Rainbow Theatre, Lo...</td>\n",
       "      <td>5y8raBUKqvSQ1ap4pdJAZs</td>\n",
       "      <td>14</td>\n",
       "      <td>2013</td>\n",
       "      <td>psych-rock</td>\n",
       "      <td>0.626</td>\n",
       "      <td>0.437</td>\n",
       "      <td>10</td>\n",
       "      <td>-17.063</td>\n",
       "      <td>1</td>\n",
       "      <td>0.0384</td>\n",
       "      <td>0.588</td>\n",
       "      <td>0.0052</td>\n",
       "      <td>0.455</td>\n",
       "      <td>0.793</td>\n",
       "      <td>105.935</td>\n",
       "      <td>933027</td>\n",
       "      <td>4</td>\n",
       "      <td>15.550450</td>\n",
       "    </tr>\n",
       "  </tbody>\n",
       "</table>\n",
       "</div>"
      ],
      "text/plain": [
       "           artist_name                                         track_name  \\\n",
       "1471560       Schiller                        Zenit (feat. Klaus Schulze)   \n",
       "96198    Grateful Dead  Shakedown Street - Live at Rainbow Theatre, Lo...   \n",
       "\n",
       "                       track_id  popularity  year       genre  danceability  \\\n",
       "1471560  63J6glG0l2YgqONow1t2ZP           1  2011      techno         0.509   \n",
       "96198    5y8raBUKqvSQ1ap4pdJAZs          14  2013  psych-rock         0.626   \n",
       "\n",
       "         energy  key  loudness  mode  speechiness  acousticness  \\\n",
       "1471560   0.806   10   -13.016     0       0.0331         0.110   \n",
       "96198     0.437   10   -17.063     1       0.0384         0.588   \n",
       "\n",
       "         instrumentalness  liveness  valence    tempo  duration_ms  \\\n",
       "1471560            0.9400     0.368    0.622   95.005      1088080   \n",
       "96198              0.0052     0.455    0.793  105.935       933027   \n",
       "\n",
       "         time_signature  duration_minutes  \n",
       "1471560               4         18.134667  \n",
       "96198                 4         15.550450  "
      ]
     },
     "execution_count": 17,
     "metadata": {},
     "output_type": "execute_result"
    }
   ],
   "source": [
    "# Filter songs greater than 15 minutes\n",
    "filtered_songs_greater_15 = df[df['duration_minutes'] > 15].sort_values(by='duration_minutes', ascending=False)\n",
    "filtered_songs_greater_15.sample(2)"
   ]
  },
  {
   "cell_type": "code",
   "execution_count": 18,
   "metadata": {
    "colab": {
     "base_uri": "https://localhost:8080/"
    },
    "executionInfo": {
     "elapsed": 22,
     "status": "ok",
     "timestamp": 1730915097151,
     "user": {
      "displayName": "Mark Kibui",
      "userId": "08263058941382842012"
     },
     "user_tz": -180
    },
    "id": "G3fdjgVqcOIb",
    "outputId": "50f292c0-2cf7-40ab-faf5-4ee65dfca2c1"
   },
   "outputs": [
    {
     "data": {
      "text/plain": [
       "(17851, 20)"
      ]
     },
     "execution_count": 18,
     "metadata": {},
     "output_type": "execute_result"
    }
   ],
   "source": [
    "# View the sleep genre as it is common in the longer duration tracks\n",
    "sleep_genre = df[df['genre'] == 'sleep']\n",
    "sleep_genre.shape"
   ]
  },
  {
   "cell_type": "code",
   "execution_count": 19,
   "metadata": {
    "colab": {
     "base_uri": "https://localhost:8080/",
     "height": 178
    },
    "executionInfo": {
     "elapsed": 20,
     "status": "ok",
     "timestamp": 1730915097151,
     "user": {
      "displayName": "Mark Kibui",
      "userId": "08263058941382842012"
     },
     "user_tz": -180
    },
    "id": "J4dGT8JZb3oc",
    "outputId": "4a55c9aa-b317-4906-e6fa-09a7d1a17868",
    "scrolled": true
   },
   "outputs": [
    {
     "data": {
      "text/html": [
       "<div>\n",
       "<style scoped>\n",
       "    .dataframe tbody tr th:only-of-type {\n",
       "        vertical-align: middle;\n",
       "    }\n",
       "\n",
       "    .dataframe tbody tr th {\n",
       "        vertical-align: top;\n",
       "    }\n",
       "\n",
       "    .dataframe thead th {\n",
       "        text-align: right;\n",
       "    }\n",
       "</style>\n",
       "<table border=\"1\" class=\"dataframe\">\n",
       "  <thead>\n",
       "    <tr style=\"text-align: right;\">\n",
       "      <th></th>\n",
       "      <th>artist_name</th>\n",
       "      <th>track_name</th>\n",
       "      <th>track_id</th>\n",
       "      <th>popularity</th>\n",
       "      <th>year</th>\n",
       "      <th>genre</th>\n",
       "      <th>danceability</th>\n",
       "      <th>energy</th>\n",
       "      <th>key</th>\n",
       "      <th>loudness</th>\n",
       "      <th>mode</th>\n",
       "      <th>speechiness</th>\n",
       "      <th>acousticness</th>\n",
       "      <th>instrumentalness</th>\n",
       "      <th>liveness</th>\n",
       "      <th>valence</th>\n",
       "      <th>tempo</th>\n",
       "      <th>duration_ms</th>\n",
       "      <th>time_signature</th>\n",
       "      <th>duration_minutes</th>\n",
       "    </tr>\n",
       "  </thead>\n",
       "  <tbody>\n",
       "    <tr>\n",
       "      <th>49942</th>\n",
       "      <td>Rain Sounds</td>\n",
       "      <td>White Noise</td>\n",
       "      <td>7dTyZl4cBRKnPBeq1fdrHY</td>\n",
       "      <td>60</td>\n",
       "      <td>2012</td>\n",
       "      <td>sleep</td>\n",
       "      <td>0.0000</td>\n",
       "      <td>0.601</td>\n",
       "      <td>4</td>\n",
       "      <td>-13.753</td>\n",
       "      <td>0</td>\n",
       "      <td>0.0000</td>\n",
       "      <td>0.119000</td>\n",
       "      <td>0.771</td>\n",
       "      <td>0.968</td>\n",
       "      <td>0.0000</td>\n",
       "      <td>0.000</td>\n",
       "      <td>240000</td>\n",
       "      <td>0</td>\n",
       "      <td>4.000000</td>\n",
       "    </tr>\n",
       "    <tr>\n",
       "      <th>49943</th>\n",
       "      <td>Nature Sounds</td>\n",
       "      <td>Relaxing Constant Rain Storm with Distant Thun...</td>\n",
       "      <td>1nKY2o8XQG1RvUCpBV5VSK</td>\n",
       "      <td>54</td>\n",
       "      <td>2012</td>\n",
       "      <td>sleep</td>\n",
       "      <td>0.0735</td>\n",
       "      <td>0.997</td>\n",
       "      <td>8</td>\n",
       "      <td>-12.484</td>\n",
       "      <td>1</td>\n",
       "      <td>0.0995</td>\n",
       "      <td>0.000626</td>\n",
       "      <td>0.975</td>\n",
       "      <td>0.871</td>\n",
       "      <td>0.0119</td>\n",
       "      <td>81.214</td>\n",
       "      <td>570203</td>\n",
       "      <td>4</td>\n",
       "      <td>9.503383</td>\n",
       "    </tr>\n",
       "    <tr>\n",
       "      <th>49944</th>\n",
       "      <td>Nature Sounds</td>\n",
       "      <td>Calm Rolling Thunder and Soothing Rain</td>\n",
       "      <td>5Y3bt7xbhZwwHfTPK5hWEg</td>\n",
       "      <td>50</td>\n",
       "      <td>2012</td>\n",
       "      <td>sleep</td>\n",
       "      <td>0.0818</td>\n",
       "      <td>0.294</td>\n",
       "      <td>0</td>\n",
       "      <td>-25.842</td>\n",
       "      <td>1</td>\n",
       "      <td>0.0898</td>\n",
       "      <td>0.067400</td>\n",
       "      <td>0.893</td>\n",
       "      <td>0.359</td>\n",
       "      <td>0.0384</td>\n",
       "      <td>85.349</td>\n",
       "      <td>570270</td>\n",
       "      <td>3</td>\n",
       "      <td>9.504500</td>\n",
       "    </tr>\n",
       "  </tbody>\n",
       "</table>\n",
       "</div>"
      ],
      "text/plain": [
       "         artist_name                                         track_name  \\\n",
       "49942    Rain Sounds                                        White Noise   \n",
       "49943  Nature Sounds  Relaxing Constant Rain Storm with Distant Thun...   \n",
       "49944  Nature Sounds             Calm Rolling Thunder and Soothing Rain   \n",
       "\n",
       "                     track_id  popularity  year  genre  danceability  energy  \\\n",
       "49942  7dTyZl4cBRKnPBeq1fdrHY          60  2012  sleep        0.0000   0.601   \n",
       "49943  1nKY2o8XQG1RvUCpBV5VSK          54  2012  sleep        0.0735   0.997   \n",
       "49944  5Y3bt7xbhZwwHfTPK5hWEg          50  2012  sleep        0.0818   0.294   \n",
       "\n",
       "       key  loudness  mode  speechiness  acousticness  instrumentalness  \\\n",
       "49942    4   -13.753     0       0.0000      0.119000             0.771   \n",
       "49943    8   -12.484     1       0.0995      0.000626             0.975   \n",
       "49944    0   -25.842     1       0.0898      0.067400             0.893   \n",
       "\n",
       "       liveness  valence   tempo  duration_ms  time_signature  \\\n",
       "49942     0.968   0.0000   0.000       240000               0   \n",
       "49943     0.871   0.0119  81.214       570203               4   \n",
       "49944     0.359   0.0384  85.349       570270               3   \n",
       "\n",
       "       duration_minutes  \n",
       "49942          4.000000  \n",
       "49943          9.503383  \n",
       "49944          9.504500  "
      ]
     },
     "execution_count": 19,
     "metadata": {},
     "output_type": "execute_result"
    }
   ],
   "source": [
    "sleep_genre.head(3)"
   ]
  },
  {
   "cell_type": "markdown",
   "metadata": {
    "id": "5QSHxyNoVCTw"
   },
   "source": [
    "## Feature Engineering\n",
    "- Scale the numerical features\n",
    "- Encode categorical feature such as genre and artist name"
   ]
  },
  {
   "cell_type": "code",
   "execution_count": 20,
   "metadata": {
    "colab": {
     "base_uri": "https://localhost:8080/",
     "height": 821
    },
    "executionInfo": {
     "elapsed": 2890,
     "status": "ok",
     "timestamp": 1730915100362,
     "user": {
      "displayName": "Mark Kibui",
      "userId": "08263058941382842012"
     },
     "user_tz": -180
    },
    "id": "yq54mkBu--l-",
    "outputId": "dc76e70c-c63b-4b21-e733-a34a8883c0d8"
   },
   "outputs": [
    {
     "data": {
      "image/png": "[encoded data removed]",
      "text/plain": [
       "<Figure size 1800x800 with 2 Axes>"
      ]
     },
     "metadata": {},
     "output_type": "display_data"
    }
   ],
   "source": [
    "# Correlation matrix\n",
    "correlation_matrix = numerical_cols_df.corr()\n",
    "\n",
    "# Create a heatmap\n",
    "plt.figure(figsize=(18, 8))\n",
    "\n",
    "sns.heatmap(correlation_matrix, annot=True, cmap='viridis')\n",
    "plt.title('Correlation Matrix')\n",
    "plt.show()"
   ]
  },
  {
   "cell_type": "markdown",
   "metadata": {
    "id": "_24tfKRgdWaL"
   },
   "source": [
    "- Features that seem not to be relevant (ie 0 and below)\n",
    "  - Mode\n",
    "  - Key\n",
    "  - Year\n",
    "  - popularity\n",
    "  - duration_ms/minutes"
   ]
  },
  {
   "cell_type": "code",
   "execution_count": 21,
   "metadata": {
    "colab": {
     "base_uri": "https://localhost:8080/"
    },
    "executionInfo": {
     "elapsed": 37,
     "status": "ok",
     "timestamp": 1730915100363,
     "user": {
      "displayName": "Mark Kibui",
      "userId": "08263058941382842012"
     },
     "user_tz": -180
    },
    "id": "zGC1CLvhF_oZ",
    "outputId": "b12a2905-2d4c-4033-90fc-ff0bb1e3425e"
   },
   "outputs": [
    {
     "name": "stdout",
     "output_type": "stream",
     "text": [
      "82\n"
     ]
    },
    {
     "data": {
      "text/plain": [
       "array(['acoustic', 'afrobeat', 'alt-rock', 'ambient', 'black-metal',\n",
       "       'blues', 'breakbeat', 'cantopop', 'chicago-house', 'chill',\n",
       "       'classical', 'club', 'comedy', 'country', 'dance', 'dancehall',\n",
       "       'death-metal', 'deep-house', 'detroit-techno', 'disco',\n",
       "       'drum-and-bass', 'dub', 'dubstep', 'edm', 'electro', 'electronic',\n",
       "       'emo', 'folk', 'forro', 'french', 'funk', 'garage', 'german',\n",
       "       'gospel', 'goth', 'grindcore', 'groove', 'guitar', 'hard-rock',\n",
       "       'hardcore', 'hardstyle', 'heavy-metal', 'hip-hop', 'house',\n",
       "       'indian', 'indie-pop', 'industrial', 'jazz', 'k-pop', 'metal',\n",
       "       'metalcore', 'minimal-techno', 'new-age', 'opera', 'party',\n",
       "       'piano', 'pop', 'pop-film', 'power-pop', 'progressive-house',\n",
       "       'psych-rock', 'punk', 'punk-rock', 'rock', 'rock-n-roll',\n",
       "       'romance', 'sad', 'salsa', 'samba', 'sertanejo', 'show-tunes',\n",
       "       'singer-songwriter', 'ska', 'sleep', 'songwriter', 'soul',\n",
       "       'spanish', 'swedish', 'tango', 'techno', 'trance', 'trip-hop'],\n",
       "      dtype=object)"
      ]
     },
     "execution_count": 21,
     "metadata": {},
     "output_type": "execute_result"
    }
   ],
   "source": [
    "genres = df['genre'].unique()\n",
    "print(len(genres))\n",
    "genres"
   ]
  },
  {
   "cell_type": "code",
   "execution_count": 22,
   "metadata": {
    "colab": {
     "base_uri": "https://localhost:8080/"
    },
    "executionInfo": {
     "elapsed": 32,
     "status": "ok",
     "timestamp": 1730915100364,
     "user": {
      "displayName": "Mark Kibui",
      "userId": "08263058941382842012"
     },
     "user_tz": -180
    },
    "id": "tex93OQQjhp5",
    "outputId": "77cfab9e-3db8-423e-cf16-df3e5d9cbcc9"
   },
   "outputs": [
    {
     "data": {
      "text/plain": [
       "Index(['artist_name', 'track_name', 'track_id', 'popularity', 'year', 'genre',\n",
       "       'danceability', 'energy', 'key', 'loudness', 'mode', 'speechiness',\n",
       "       'acousticness', 'instrumentalness', 'liveness', 'valence', 'tempo',\n",
       "       'time_signature'],\n",
       "      dtype='object')"
      ]
     },
     "execution_count": 22,
     "metadata": {},
     "output_type": "execute_result"
    }
   ],
   "source": [
    "# drop the irrelevant colunmns\n",
    "data = df.drop(['duration_ms','duration_minutes'], axis=1)\n",
    "data.columns"
   ]
  },
  {
   "cell_type": "markdown",
   "metadata": {
    "id": "gfGcARTqi-mO"
   },
   "source": [
    "# Feature Engineering"
   ]
  },
  {
   "cell_type": "markdown",
   "metadata": {
    "id": "5_1lpsl2IgMS"
   },
   "source": [
    "- Start by converting genre values to binary values\n",
    "- Encode **genre** column\n",
    "- Scale features"
   ]
  },
  {
   "cell_type": "code",
   "execution_count": 23,
   "metadata": {
    "colab": {
     "base_uri": "https://localhost:8080/",
     "height": 206
    },
    "executionInfo": {
     "elapsed": 26,
     "status": "ok",
     "timestamp": 1730915100366,
     "user": {
      "displayName": "Mark Kibui",
      "userId": "08263058941382842012"
     },
     "user_tz": -180
    },
    "id": "h5G9f95Xb7y0",
    "outputId": "da1ae16d-95dc-4ee3-e96a-ba665ddedcac"
   },
   "outputs": [
    {
     "name": "stdout",
     "output_type": "stream",
     "text": [
      "popularity            int64\n",
      "year                  int64\n",
      "danceability        float64\n",
      "energy              float64\n",
      "key                   int64\n",
      "loudness            float64\n",
      "mode                  int64\n",
      "speechiness         float64\n",
      "acousticness        float64\n",
      "instrumentalness    float64\n",
      "liveness            float64\n",
      "valence             float64\n",
      "tempo               float64\n",
      "time_signature        int64\n",
      "genre_encoded         int32\n",
      "dtype: object\n"
     ]
    }
   ],
   "source": [
    "# Encode 'genre', drop irrelevant columns, scale features\n",
    "from sklearn.preprocessing import MinMaxScaler, LabelEncoder\n",
    "\n",
    "# Encode the 'genre' column\n",
    "label_encoder = LabelEncoder()\n",
    "data['genre_encoded'] = label_encoder.fit_transform(data['genre'])\n",
    "\n",
    "# Drop irrelevant columns\n",
    "data_encoded = data.drop(['artist_name', 'track_name', 'track_id', 'genre'], axis=1)\n",
    "\n",
    "# Check for non-numeric columns\n",
    "print(data_encoded.dtypes)"
   ]
  },
  {
   "cell_type": "code",
   "execution_count": 24,
   "metadata": {
    "id": "-L1PfwfVVCTx",
    "outputId": "7c406694-2e56-4280-9665-d054e11f91a1"
   },
   "outputs": [
    {
     "data": {
      "text/plain": [
       "popularity          0\n",
       "year                0\n",
       "danceability        0\n",
       "energy              0\n",
       "key                 0\n",
       "loudness            0\n",
       "mode                0\n",
       "speechiness         0\n",
       "acousticness        0\n",
       "instrumentalness    0\n",
       "liveness            0\n",
       "valence             0\n",
       "tempo               0\n",
       "time_signature      0\n",
       "genre_encoded       0\n",
       "dtype: int64"
      ]
     },
     "execution_count": 24,
     "metadata": {},
     "output_type": "execute_result"
    }
   ],
   "source": [
    "# Scale numerical features\n",
    "scaler = MinMaxScaler()\n",
    "data_scaled = pd.DataFrame(scaler.fit_transform(data_encoded), columns=data_encoded.columns)\n",
    "\n",
    "data_scaled.isna().sum()"
   ]
  },
  {
   "cell_type": "code",
   "execution_count": 25,
   "metadata": {
    "colab": {
     "base_uri": "https://localhost:8080/"
    },
    "executionInfo": {
     "elapsed": 354,
     "status": "ok",
     "timestamp": 1730915154756,
     "user": {
      "displayName": "Mark Kibui",
      "userId": "08263058941382842012"
     },
     "user_tz": -180
    },
    "id": "pJ_kAQvpJgVM",
    "outputId": "ddbb67c0-2b17-481e-ed42-0858c07cc6ba"
   },
   "outputs": [
    {
     "data": {
      "text/plain": [
       "(1159748, 15)"
      ]
     },
     "execution_count": 25,
     "metadata": {},
     "output_type": "execute_result"
    }
   ],
   "source": [
    "# View shape of the scaled dataframe\n",
    "data_scaled.shape"
   ]
  },
  {
   "cell_type": "markdown",
   "metadata": {
    "id": "B6OJFtvlYxhF"
   },
   "source": [
    "## Modeling\n",
    "- Use K-Nearest Neighbors (KNN) for recommendation, to reduce dimensions. This model finds the nearest neighbors for each sample in the dataset. It uses the Euclidean distance by default, which can be changed to other distance metrics if needed."
   ]
  },
  {
   "cell_type": "code",
   "execution_count": 26,
   "metadata": {
    "id": "pVlTRsX5ZLPC",
    "scrolled": false
   },
   "outputs": [
    {
     "data": {
      "text/html": [
       "<style>#sk-container-id-1 {color: black;background-color: white;}#sk-container-id-1 pre{padding: 0;}#sk-container-id-1 div.sk-toggleable {background-color: white;}#sk-container-id-1 label.sk-toggleable__label {cursor: pointer;display: block;width: 100%;margin-bottom: 0;padding: 0.3em;box-sizing: border-box;text-align: center;}#sk-container-id-1 label.sk-toggleable__label-arrow:before {content: \"▸\";float: left;margin-right: 0.25em;color: #696969;}#sk-container-id-1 label.sk-toggleable__label-arrow:hover:before {color: black;}#sk-container-id-1 div.sk-estimator:hover label.sk-toggleable__label-arrow:before {color: black;}#sk-container-id-1 div.sk-toggleable__content {max-height: 0;max-width: 0;overflow: hidden;text-align: left;background-color: #f0f8ff;}#sk-container-id-1 div.sk-toggleable__content pre {margin: 0.2em;color: black;border-radius: 0.25em;background-color: #f0f8ff;}#sk-container-id-1 input.sk-toggleable__control:checked~div.sk-toggleable__content {max-height: 200px;max-width: 100%;overflow: auto;}#sk-container-id-1 input.sk-toggleable__control:checked~label.sk-toggleable__label-arrow:before {content: \"▾\";}#sk-container-id-1 div.sk-estimator input.sk-toggleable__control:checked~label.sk-toggleable__label {background-color: #d4ebff;}#sk-container-id-1 div.sk-label input.sk-toggleable__control:checked~label.sk-toggleable__label {background-color: #d4ebff;}#sk-container-id-1 input.sk-hidden--visually {border: 0;clip: rect(1px 1px 1px 1px);clip: rect(1px, 1px, 1px, 1px);height: 1px;margin: -1px;overflow: hidden;padding: 0;position: absolute;width: 1px;}#sk-container-id-1 div.sk-estimator {font-family: monospace;background-color: #f0f8ff;border: 1px dotted black;border-radius: 0.25em;box-sizing: border-box;margin-bottom: 0.5em;}#sk-container-id-1 div.sk-estimator:hover {background-color: #d4ebff;}#sk-container-id-1 div.sk-parallel-item::after {content: \"\";width: 100%;border-bottom: 1px solid gray;flex-grow: 1;}#sk-container-id-1 div.sk-label:hover label.sk-toggleable__label {background-color: #d4ebff;}#sk-container-id-1 div.sk-serial::before {content: \"\";position: absolute;border-left: 1px solid gray;box-sizing: border-box;top: 0;bottom: 0;left: 50%;z-index: 0;}#sk-container-id-1 div.sk-serial {display: flex;flex-direction: column;align-items: center;background-color: white;padding-right: 0.2em;padding-left: 0.2em;position: relative;}#sk-container-id-1 div.sk-item {position: relative;z-index: 1;}#sk-container-id-1 div.sk-parallel {display: flex;align-items: stretch;justify-content: center;background-color: white;position: relative;}#sk-container-id-1 div.sk-item::before, #sk-container-id-1 div.sk-parallel-item::before {content: \"\";position: absolute;border-left: 1px solid gray;box-sizing: border-box;top: 0;bottom: 0;left: 50%;z-index: -1;}#sk-container-id-1 div.sk-parallel-item {display: flex;flex-direction: column;z-index: 1;position: relative;background-color: white;}#sk-container-id-1 div.sk-parallel-item:first-child::after {align-self: flex-end;width: 50%;}#sk-container-id-1 div.sk-parallel-item:last-child::after {align-self: flex-start;width: 50%;}#sk-container-id-1 div.sk-parallel-item:only-child::after {width: 0;}#sk-container-id-1 div.sk-dashed-wrapped {border: 1px dashed gray;margin: 0 0.4em 0.5em 0.4em;box-sizing: border-box;padding-bottom: 0.4em;background-color: white;}#sk-container-id-1 div.sk-label label {font-family: monospace;font-weight: bold;display: inline-block;line-height: 1.2em;}#sk-container-id-1 div.sk-label-container {text-align: center;}#sk-container-id-1 div.sk-container {/* jupyter's `normalize.less` sets `[hidden] { display: none; }` but bootstrap.min.css set `[hidden] { display: none !important; }` so we also need the `!important` here to be able to override the default hidden behavior on the sphinx rendered scikit-learn.org. See: https://github.com/scikit-learn/scikit-learn/issues/21755 */display: inline-block !important;position: relative;}#sk-container-id-1 div.sk-text-repr-fallback {display: none;}</style><div id=\"sk-container-id-1\" class=\"sk-top-container\"><div class=\"sk-text-repr-fallback\"><pre>NearestNeighbors(n_neighbors=6)</pre><b>In a Jupyter environment, please rerun this cell to show the HTML representation or trust the notebook. <br />On GitHub, the HTML representation is unable to render, please try loading this page with nbviewer.org.</b></div><div class=\"sk-container\" hidden><div class=\"sk-item\"><div class=\"sk-estimator sk-toggleable\"><input class=\"sk-toggleable__control sk-hidden--visually\" id=\"sk-estimator-id-1\" type=\"checkbox\" checked><label for=\"sk-estimator-id-1\" class=\"sk-toggleable__label sk-toggleable__label-arrow\">NearestNeighbors</label><div class=\"sk-toggleable__content\"><pre>NearestNeighbors(n_neighbors=6)</pre></div></div></div></div></div>"
      ],
      "text/plain": [
       "NearestNeighbors(n_neighbors=6)"
      ]
     },
     "execution_count": 26,
     "metadata": {},
     "output_type": "execute_result"
    }
   ],
   "source": [
    "from sklearn.neighbors import NearestNeighbors\n",
    "\n",
    "# Fit the k-NN model on the scaled dataset\n",
    "knn = NearestNeighbors(n_neighbors=6, algorithm='auto')  # Adjust 'n_neighbors' to your preferred number of recommendations\n",
    "knn.fit(data_scaled)\n",
    "\n",
    "# To generate recommendations for all songs in the dataset\n",
    "# distances, indices = knn.kneighbors(data_scaled)\n"
   ]
  },
  {
   "cell_type": "markdown",
   "metadata": {
    "id": "6Q-iPnGQW9BY"
   },
   "source": [
    "## Evaluate the model\n",
    "- Evaluating a KNN model in a recommendation system by assessing how well it groups similar songs together.\n",
    "\n",
    "- Intrinsic Evaluation: Use clustering metrics like the Silhouette Score to evaluate how well songs are grouped in feature space."
   ]
  },
  {
   "cell_type": "code",
   "execution_count": 27,
   "metadata": {
    "id": "49f3XHwYWqWw"
   },
   "outputs": [
    {
     "name": "stdout",
     "output_type": "stream",
     "text": [
      "Silhouette Score: 0.002045266958758462\n"
     ]
    }
   ],
   "source": [
    "# Evaluate the model\n",
    "from sklearn.metrics import silhouette_score\n",
    "\n",
    "# Compute the Silhouette Score\n",
    "# Labels are inferred from the nearest neighbors\n",
    "silhouette = silhouette_score(data_scaled, knn.kneighbors(data_scaled, return_distance=False)[:, 0])\n",
    "\n",
    "print(f\"Silhouette Score: {silhouette}\")"
   ]
  },
  {
   "cell_type": "code",
   "execution_count": 34,
   "metadata": {
    "id": "VTWzjDZzYjhb"
   },
   "outputs": [],
   "source": [
    "# Function to Recommend Songs by Name\n",
    "def recommend_songs_by_name(song_name, data, knn_model, data_scaled, top_n=5):\n",
    "    \"\"\"\n",
    "    Recommend songs similar to the given song name.\n",
    "\n",
    "    Parameters:\n",
    "    - song_name (str): The name of the song to find recommendations for.\n",
    "    - data (DataFrame): DataFrame containing song IDs and features.\n",
    "    - knn_model (NearestNeighbors): Pre-trained k-NN model.\n",
    "    - data_scaled (numpy.ndarray): Scaled feature array.\n",
    "    - top_n: Number of recommendations to return.\n",
    "\n",
    "    Returns:\n",
    "    - List of recommended song names with distances.\n",
    "    \"\"\"\n",
    "    # Check if the song name exists in the data\n",
    "    if song_name not in data[\"title\"].values:\n",
    "        return f\"Error: Song name '{song_name}' not found in the dataset.\"\n",
    "\n",
    "    # Find the index of the song\n",
    "    song_index = data[song_data[\"title\"] == song_name].index[0]\n",
    "\n",
    "    # Find the k nearest neighbors\n",
    "    distances, indices = knn_model.kneighbors([data_scaled[song_index]])\n",
    "\n",
    "    # Compile recommendations\n",
    "    recommendations = [\n",
    "        {\"title\": data.iloc[idx][\"title\"], \"distance\": dist}\n",
    "        for idx, dist in zip(indices[0][1:top_n + 1], distances[0][1:top_n + 1])\n",
    "    ]\n",
    "\n",
    "    return recommendations"
   ]
  },
  {
   "cell_type": "code",
   "execution_count": 47,
   "metadata": {
    "id": "VrT2R8jUYvoT",
    "scrolled": false
   },
   "outputs": [],
   "source": [
    "# Function to recommend similar songs\n",
    "def recommend_song(track_name, data_scaled, original_data, knn_model):\n",
    "    song_index = get_song_index(track_name, original_data)\n",
    "    if song_index is not None:\n",
    "        # Extract the corresponding row from data_scaled as a DataFrame\n",
    "        song_vector = data_scaled.loc[[song_index]]  # Maintain as DataFrame\n",
    "        distances, indices = knn_model.kneighbors(song_vector)  # Get neighbors\n",
    "        \n",
    "        # Map indices to song names\n",
    "        recommended_songs = [\n",
    "            original_data.iloc[i]['track_name'] for i in indices.flatten() if i != song_index\n",
    "        ]  # Exclude the input song\n",
    "        return recommended_songs\n",
    "    else:\n",
    "        return None"
   ]
  },
  {
   "cell_type": "code",
   "execution_count": 48,
   "metadata": {},
   "outputs": [
    {
     "data": {
      "text/html": [
       "<div>\n",
       "<style scoped>\n",
       "    .dataframe tbody tr th:only-of-type {\n",
       "        vertical-align: middle;\n",
       "    }\n",
       "\n",
       "    .dataframe tbody tr th {\n",
       "        vertical-align: top;\n",
       "    }\n",
       "\n",
       "    .dataframe thead th {\n",
       "        text-align: right;\n",
       "    }\n",
       "</style>\n",
       "<table border=\"1\" class=\"dataframe\">\n",
       "  <thead>\n",
       "    <tr style=\"text-align: right;\">\n",
       "      <th></th>\n",
       "      <th>artist_name</th>\n",
       "      <th>track_name</th>\n",
       "      <th>track_id</th>\n",
       "      <th>popularity</th>\n",
       "      <th>year</th>\n",
       "      <th>genre</th>\n",
       "      <th>danceability</th>\n",
       "      <th>energy</th>\n",
       "      <th>key</th>\n",
       "      <th>loudness</th>\n",
       "      <th>mode</th>\n",
       "      <th>speechiness</th>\n",
       "      <th>acousticness</th>\n",
       "      <th>instrumentalness</th>\n",
       "      <th>liveness</th>\n",
       "      <th>valence</th>\n",
       "      <th>tempo</th>\n",
       "      <th>time_signature</th>\n",
       "      <th>genre_encoded</th>\n",
       "    </tr>\n",
       "  </thead>\n",
       "  <tbody>\n",
       "    <tr>\n",
       "      <th>0</th>\n",
       "      <td>Jason Mraz</td>\n",
       "      <td>I Won't Give Up</td>\n",
       "      <td>53QF56cjZA9RTuuMZDrSA6</td>\n",
       "      <td>68</td>\n",
       "      <td>2012</td>\n",
       "      <td>acoustic</td>\n",
       "      <td>0.483</td>\n",
       "      <td>0.303</td>\n",
       "      <td>4</td>\n",
       "      <td>-10.058</td>\n",
       "      <td>1</td>\n",
       "      <td>0.0429</td>\n",
       "      <td>0.6940</td>\n",
       "      <td>0.000000</td>\n",
       "      <td>0.1150</td>\n",
       "      <td>0.139</td>\n",
       "      <td>133.406</td>\n",
       "      <td>3</td>\n",
       "      <td>0</td>\n",
       "    </tr>\n",
       "    <tr>\n",
       "      <th>1</th>\n",
       "      <td>Jason Mraz</td>\n",
       "      <td>93 Million Miles</td>\n",
       "      <td>1s8tP3jP4GZcyHDsjvw218</td>\n",
       "      <td>50</td>\n",
       "      <td>2012</td>\n",
       "      <td>acoustic</td>\n",
       "      <td>0.572</td>\n",
       "      <td>0.454</td>\n",
       "      <td>3</td>\n",
       "      <td>-10.286</td>\n",
       "      <td>1</td>\n",
       "      <td>0.0258</td>\n",
       "      <td>0.4770</td>\n",
       "      <td>0.000014</td>\n",
       "      <td>0.0974</td>\n",
       "      <td>0.515</td>\n",
       "      <td>140.182</td>\n",
       "      <td>4</td>\n",
       "      <td>0</td>\n",
       "    </tr>\n",
       "    <tr>\n",
       "      <th>2</th>\n",
       "      <td>Joshua Hyslop</td>\n",
       "      <td>Do Not Let Me Go</td>\n",
       "      <td>7BRCa8MPiyuvr2VU3O9W0F</td>\n",
       "      <td>57</td>\n",
       "      <td>2012</td>\n",
       "      <td>acoustic</td>\n",
       "      <td>0.409</td>\n",
       "      <td>0.234</td>\n",
       "      <td>3</td>\n",
       "      <td>-13.711</td>\n",
       "      <td>1</td>\n",
       "      <td>0.0323</td>\n",
       "      <td>0.3380</td>\n",
       "      <td>0.000050</td>\n",
       "      <td>0.0895</td>\n",
       "      <td>0.145</td>\n",
       "      <td>139.832</td>\n",
       "      <td>4</td>\n",
       "      <td>0</td>\n",
       "    </tr>\n",
       "    <tr>\n",
       "      <th>3</th>\n",
       "      <td>Boyce Avenue</td>\n",
       "      <td>Fast Car</td>\n",
       "      <td>63wsZUhUZLlh1OsyrZq7sz</td>\n",
       "      <td>58</td>\n",
       "      <td>2012</td>\n",
       "      <td>acoustic</td>\n",
       "      <td>0.392</td>\n",
       "      <td>0.251</td>\n",
       "      <td>10</td>\n",
       "      <td>-9.845</td>\n",
       "      <td>1</td>\n",
       "      <td>0.0363</td>\n",
       "      <td>0.8070</td>\n",
       "      <td>0.000000</td>\n",
       "      <td>0.0797</td>\n",
       "      <td>0.508</td>\n",
       "      <td>204.961</td>\n",
       "      <td>4</td>\n",
       "      <td>0</td>\n",
       "    </tr>\n",
       "    <tr>\n",
       "      <th>4</th>\n",
       "      <td>Andrew Belle</td>\n",
       "      <td>Sky's Still Blue</td>\n",
       "      <td>6nXIYClvJAfi6ujLiKqEq8</td>\n",
       "      <td>54</td>\n",
       "      <td>2012</td>\n",
       "      <td>acoustic</td>\n",
       "      <td>0.430</td>\n",
       "      <td>0.791</td>\n",
       "      <td>6</td>\n",
       "      <td>-5.419</td>\n",
       "      <td>0</td>\n",
       "      <td>0.0302</td>\n",
       "      <td>0.0726</td>\n",
       "      <td>0.019300</td>\n",
       "      <td>0.1100</td>\n",
       "      <td>0.217</td>\n",
       "      <td>171.864</td>\n",
       "      <td>4</td>\n",
       "      <td>0</td>\n",
       "    </tr>\n",
       "  </tbody>\n",
       "</table>\n",
       "</div>"
      ],
      "text/plain": [
       "     artist_name        track_name                track_id  popularity  year  \\\n",
       "0     Jason Mraz   I Won't Give Up  53QF56cjZA9RTuuMZDrSA6          68  2012   \n",
       "1     Jason Mraz  93 Million Miles  1s8tP3jP4GZcyHDsjvw218          50  2012   \n",
       "2  Joshua Hyslop  Do Not Let Me Go  7BRCa8MPiyuvr2VU3O9W0F          57  2012   \n",
       "3   Boyce Avenue          Fast Car  63wsZUhUZLlh1OsyrZq7sz          58  2012   \n",
       "4   Andrew Belle  Sky's Still Blue  6nXIYClvJAfi6ujLiKqEq8          54  2012   \n",
       "\n",
       "      genre  danceability  energy  key  loudness  mode  speechiness  \\\n",
       "0  acoustic         0.483   0.303    4   -10.058     1       0.0429   \n",
       "1  acoustic         0.572   0.454    3   -10.286     1       0.0258   \n",
       "2  acoustic         0.409   0.234    3   -13.711     1       0.0323   \n",
       "3  acoustic         0.392   0.251   10    -9.845     1       0.0363   \n",
       "4  acoustic         0.430   0.791    6    -5.419     0       0.0302   \n",
       "\n",
       "   acousticness  instrumentalness  liveness  valence    tempo  time_signature  \\\n",
       "0        0.6940          0.000000    0.1150    0.139  133.406               3   \n",
       "1        0.4770          0.000014    0.0974    0.515  140.182               4   \n",
       "2        0.3380          0.000050    0.0895    0.145  139.832               4   \n",
       "3        0.8070          0.000000    0.0797    0.508  204.961               4   \n",
       "4        0.0726          0.019300    0.1100    0.217  171.864               4   \n",
       "\n",
       "   genre_encoded  \n",
       "0              0  \n",
       "1              0  \n",
       "2              0  \n",
       "3              0  \n",
       "4              0  "
      ]
     },
     "execution_count": 48,
     "metadata": {},
     "output_type": "execute_result"
    }
   ],
   "source": [
    "data.head()"
   ]
  },
  {
   "cell_type": "code",
   "execution_count": 49,
   "metadata": {},
   "outputs": [
    {
     "name": "stdout",
     "output_type": "stream",
     "text": [
      "Enter a song name: Do Not Let Me Go\n",
      "Recommended songs for 'Do Not Let Me Go':\n",
      "I Am Not Alone - Radio Version\n",
      "Fix You\n",
      "Oceans (Where Feet My Fail) - Live/Acoustic Version\n",
      "Future Days\n",
      "I Was Made For Loving You\n"
     ]
    }
   ],
   "source": [
    "# Test\n",
    "song_name_input = input(\"Enter a song name: \")\n",
    "\n",
    "recommended_songs = recommend_song(song_name_input, data_scaled, data, knn)\n",
    "\n",
    "if recommended_songs:\n",
    "    print(f\"Recommended songs for '{song_name_input}':\")\n",
    "    for song in recommended_songs:\n",
    "        print(song)\n",
    "else:\n",
    "    print(\"No recommendations found.\")"
   ]
  },
  {
   "cell_type": "code",
   "execution_count": null,
   "metadata": {},
   "outputs": [],
   "source": []
  }
 ],
 "metadata": {
  "accelerator": "TPU",
  "colab": {
   "gpuType": "V28",
   "provenance": []
  },
  "kernelspec": {
   "display_name": "Python 3 (ipykernel)",
   "language": "python",
   "name": "python3"
  },
  "language_info": {
   "codemirror_mode": {
    "name": "ipython",
    "version": 3
   },
   "file_extension": ".py",
   "mimetype": "text/x-python",
   "name": "python",
   "nbconvert_exporter": "python",
   "pygments_lexer": "ipython3",
   "version": "3.11.4"
  }
 },
 "nbformat": 4,
 "nbformat_minor": 1
}
